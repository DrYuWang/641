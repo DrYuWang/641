{
 "cells": [
  {
   "cell_type": "markdown",
   "metadata": {},
   "source": [
    "# Coding activity 1: Nearest neighbor smoothers"
   ]
  },
  {
   "cell_type": "markdown",
   "metadata": {},
   "source": [
    "## Nearest neighbor smoothers"
   ]
  },
  {
   "cell_type": "markdown",
   "metadata": {},
   "source": [
    " Write a nearest neighbor smoother."
   ]
  },
  {
   "cell_type": "code",
   "execution_count": 1,
   "metadata": {},
   "outputs": [],
   "source": [
    "import numpy as np"
   ]
  },
  {
   "cell_type": "code",
   "execution_count": null,
   "metadata": {},
   "outputs": [],
   "source": [
    "\n",
    "def nns(xis, yis, x):\n",
    "    \"\"\"Return yis[i], where xis[i] is the entry of xis closest to x.\"\"\"\n",
    "    \n",
    "    # Your code goes here.\n",
    "    \n",
    "    return yis[i]\n",
    "\n",
    "# (Check) Should print 6 666 666 6666.\n",
    "xis = [0, 1, 5, 6.5]\n",
    "yis = [6, 66, 666, 6666]\n",
    "print(nns(xis, yis, -1), nns(xis, yis, 4), nns(xis, yis, 5.1), nns(xis, yis, 100))"
   ]
  },
  {
   "cell_type": "markdown",
   "metadata": {},
   "source": [
    "Write a \"vectorized\" nearest neighbor smoother.\n",
    "\n",
    "Your solution here should be independent of your solution to the previous exercise.\n",
    "The naming clash is intentional."
   ]
  },
  {
   "cell_type": "code",
   "execution_count": null,
   "metadata": {},
   "outputs": [],
   "source": [
    "def nns(xis, yis, xs):\n",
    "    \"\"\"Same as nns, but returning a list of ys given a list of xs.\"\"\"\n",
    "    \n",
    "    # Your code goes here. Don't invoke code from the previous exercise.\n",
    "\n",
    "    return ys\n",
    "\n",
    "# (Check) Should print [   6  666  666 6666].\n",
    "xis = np.array([0, 1, 5, 6.5])\n",
    "yis = np.array([6, 66, 666, 6666])\n",
    "print(nns(xis, yis, [-1, 4, 5.1, 100]))"
   ]
  },
  {
   "cell_type": "markdown",
   "metadata": {},
   "source": [
    "Write a \"higher order\" smoother function, i.e., a function that takes training data as input and return a function to evaluate on test data. Are there advantages to such an implementation over that of the previous exercise?"
   ]
  },
  {
   "cell_type": "code",
   "execution_count": null,
   "metadata": {},
   "outputs": [],
   "source": [
    "def nns_factory(xis, yis):\n",
    "    def nns(xs):\n",
    "        \n",
    "        # Your code goes here. Don't invoke code from previous exercises.\n",
    "        \n",
    "        return ys\n",
    "    return nns\n",
    "\n",
    "# (Check) Should print [   6  666  666 6666].\n",
    "xis = np.array([0, 1, 5, 6.5])\n",
    "yis = np.array([6, 66, 666, 6666])\n",
    "nns = nns_factory(xis, yis)\n",
    "print(nns([-1, 4, 5.1, 100]))"
   ]
  },
  {
   "cell_type": "markdown",
   "metadata": {},
   "source": [
    "If you don't consider the \"higher order function\" pattern from the previous exercise to be particularly pythonic, you aren't alone. Let's write a class offering the same functionality, in the <code>sklearn</code> style."
   ]
  },
  {
   "cell_type": "code",
   "execution_count": null,
   "metadata": {},
   "outputs": [],
   "source": [
    "from sklearn.base import RegressorMixin\n",
    "from sklearn.utils.validation import check_X_y, check_array, check_is_fitted\n",
    "\n",
    "class NNS(RegressorMixin):\n",
    "    \n",
    "    def fit(self, X, y):\n",
    "        \n",
    "        # Check that X and y have compatible shapes.\n",
    "        X, y = check_X_y(X, y)\n",
    "\n",
    "        # Store the training data on the instance. (Why?)\n",
    "        self.X_ = X\n",
    "        self.y_ = y\n",
    "        \n",
    "        ### Your code goes here.\n",
    "\n",
    "        # Return the instance. (Why?)\n",
    "        return self\n",
    "    \n",
    "    def predict(self, X):\n",
    "        \n",
    "        # Check is fit had been called.\n",
    "        check_is_fitted(self, ['X_', 'y_'])\n",
    "        \n",
    "        # Validate input type.\n",
    "        X = check_array(X)\n",
    "        \n",
    "        # Your code goes here.\n",
    "        \n",
    "        return y\n",
    "    \n",
    "# (Check) Should print [6, 666, 666, 6666].\n",
    "X = np.array([0, 1, 5, 6.5]).reshape((-1, 1))\n",
    "y = np.array([6, 66, 666, 6666])\n",
    "X_test = np.array([-1, 4, 5.1, 100]).reshape(-1, 1)\n",
    "S = NNS().fit(X, y)\n",
    "print(S.predict(X_test))\n",
    "print(NNS()\n",
    "      .fit([0, 1, 5, 6.5], [6, 66, 666, 6666])\n",
    "      .predict([-1, 4, 5.1, 100]))"
   ]
  },
  {
   "cell_type": "markdown",
   "metadata": {},
   "source": [
    "- What happens if you remove the `.reshape(-1, 1)` method call in the definition of `X` and run the above cell again?\n",
    "\n",
    "- If you inspect the methods available on `S` by typing `S.<tab>`, you'll notice a `score` method.\n",
    "  - Where did it come from? What does it do? Find out by typing `S.score?<ctrl+enter>` or, on a mac, `S.score?<command+enter>`. (`<command+enter>` is a jupyter keyboard shortcut for running the current cell.)\n",
    "  - Try it out! You'll need to provide `y`-values to go with the `x`-values in `X_test`.\n",
    "  - Look at the source code of `RegressorMixin`. (Where is it?) Notice that the implementation of the `score` method invokes the `predict`, which we have thoughfully provided. According to the <a href=\"https://scikit-learn.org/stable/glossary.html#term-regressors\"><code>sklearn</code> docs</a>, a *regressor* is a class that implements `fit`, `predict`, and `score`. (Duck typing!)"
   ]
  },
  {
   "cell_type": "markdown",
   "metadata": {},
   "source": [
    "## Exercise: Piecewise linear smoothers\n",
    "\n",
    "Write a class `PiecewiseLinear` that interpolates a dataset in a piecewise-linear fashion. It should inherit from `RegressorMixin` and implement `fit` and `predict`.\n",
    "\n",
    "The equation of the line through $(x_i, y_i)$ and $(x_{i+1}, y_{i+1})$ is\n",
    "\n",
    "$$ y = \\frac{y_{i+1} - y_i}{x_{i+1} - x_i}(x - x_i) + y_i.$$\n",
    "\n",
    "Test your implementation: Construct training and test data for which you know what the output of `predict` should be.\n",
    "\n",
    "Compute some $R^2$-scores. Are the results reasonable?\n",
    "\n",
    "Add a method `plot` to `PiecewiseLinear` that overlays the piecewise-linear fit over the scatter plot of the training data. Your method should warn the user if the instance lacks test data, `X_` and `y_`."
   ]
  },
  {
   "cell_type": "code",
   "execution_count": 126,
   "metadata": {},
   "outputs": [
    {
     "data": {
      "text/plain": [
       "[6, 366.0]"
      ]
     },
     "execution_count": 126,
     "metadata": {},
     "output_type": "execute_result"
    }
   ],
   "source": [
    "from sklearn.base import RegressorMixin\n",
    "from sklearn.utils.validation import check_X_y, check_array, check_is_fitted\n",
    "\n",
    "class PiecewiseLinear(RegressorMixin):\n",
    "    \n",
    "    def fit(self, X, y):\n",
    "     \n",
    "        self.X_ = X\n",
    "        self.y_ = y\n",
    "        \n",
    "        self.m_ = (y[1:] - y[:-1])/(X[1:] - X[:-1])\n",
    "        self.b_ = y[1:] - self.m_*X[1:]\n",
    "        \n",
    "        return self\n",
    "    \n",
    "    def predict_one(self, x):\n",
    "        if x == self.X_[0]:\n",
    "            return self.y_[0]\n",
    "        else:\n",
    "            i = np.argmax(x <= self.X_)\n",
    "            return self.m_[i - 1]*x + self.b_[i - 1]\n",
    "    \n",
    "    def predict(self, X):\n",
    "        y = [self.predict_one(x) for x in X]\n",
    "        return y\n",
    "    \n",
    "X = np.array([0, 1, 5, 6.5])\n",
    "y = np.array([6, 66, 666, 6666])\n",
    "\n",
    "P = PiecewiseLinear().fit(X, y)\n",
    "P.predict([0, 3])"
   ]
  },
  {
   "cell_type": "code",
   "execution_count": 35,
   "metadata": {},
   "outputs": [
    {
     "name": "stdout",
     "output_type": "stream",
     "text": [
      "[1 2 3 4 5] [2 3 4 5 6]\n"
     ]
    }
   ],
   "source": [
    "x = np.array([5, 3, 2, 4, 1])\n",
    "y = np.array([6, 4, 3, 5, 2])\n",
    "i = np.argsort(x)\n",
    "print(x[i], y[i])"
   ]
  },
  {
   "cell_type": "markdown",
   "metadata": {},
   "source": [
    "## Exercise: Simple linear regression\n",
    "\n",
    "Write a class `SimpleLinearRegression` that constructs the least-squares line associated to a dataset. It should inherit from `RegressorMixin` and implement `fit` and `predict`.\n",
    "\n",
    "The least-squares coefficients are given by\n",
    "$$\n",
    "\\beta = (X^TX)^{-1}X^Ty,\n",
    "\\quad\\text{where}\\quad\n",
    "X=\\begin{bmatrix}1&x_1\\\\1&x_2\\\\\\vdots&\\vdots\\\\1&x_n\\end{bmatrix},\\quad\n",
    "y=\\begin{bmatrix}y_1\\\\y_2\\\\\\vdots\\\\y_n\\end{bmatrix},\\quad\n",
    "\\text{and}\\quad\n",
    "\\beta=\\begin{bmatrix}\\beta_0\\\\\\beta_1\\end{bmatrix}.\n",
    "$$\n",
    "\n",
    "Test your implementation: Construct training and test data for which you know what the output of `predict` should be.\n",
    "\n",
    "Compute some $R^2$-scores. Are the results reasonable?\n",
    "\n",
    "Add a method `plot` to `PiecewiseLinear` that overlays the least-squares line over the scatter plot of the training data. Your method should warn the user if the the model hasn't been fit.\n",
    "\n",
    "Compare `SimpleLinearRegression` to `PiecewiseLinear` and `NNS`.\n",
    "Identify the major structural difference reflecting the fact that `SimpleLinearRegression` is parametric while `PiecewiseLinear` and `NNS` are nonparametric."
   ]
  },
  {
   "cell_type": "code",
   "execution_count": null,
   "metadata": {},
   "outputs": [],
   "source": [
    "# Your code goes here."
   ]
  },
  {
   "cell_type": "code",
   "execution_count": 83,
   "metadata": {},
   "outputs": [
    {
     "data": {
      "text/plain": [
       "0.75"
      ]
     },
     "execution_count": 83,
     "metadata": {},
     "output_type": "execute_result"
    }
   ],
   "source": [
    "X = np.array([0, 2, 4, 6])\n",
    "y = np.array([0.5, 1, 0, 2])\n",
    "\n",
    "m = (y[1:] - y[:-1])/(X[1:] - X[:-1])\n",
    "slopes*(X[1:] - 3) + y[1:]\n",
    "b = y[1:] - slopes*X[1:]\n",
    "x = 1\n",
    "sum((slopes*x + b)*(X[:-1] < x)*(x <= X[1:])) + (x == X[0])*y[0]"
   ]
  },
  {
   "cell_type": "code",
   "execution_count": 69,
   "metadata": {},
   "outputs": [],
   "source": [
    "from matplotlib import pyplot as plt"
   ]
  },
  {
   "cell_type": "code",
   "execution_count": 81,
   "metadata": {},
   "outputs": [
    {
     "data": {
      "text/plain": [
       "[<matplotlib.lines.Line2D at 0x11849bcc0>]"
      ]
     },
     "execution_count": 81,
     "metadata": {},
     "output_type": "execute_result"
    },
    {
     "data": {
      "image/png": "[encoded data removed]",
      "text/plain": [
       "<Figure size 432x288 with 1 Axes>"
      ]
     },
     "metadata": {},
     "output_type": "display_data"
    }
   ],
   "source": [
    "plt.plot(X, y)"
   ]
  },
  {
   "cell_type": "code",
   "execution_count": 111,
   "metadata": {},
   "outputs": [
    {
     "data": {
      "text/plain": [
       "2"
      ]
     },
     "execution_count": 111,
     "metadata": {},
     "output_type": "execute_result"
    }
   ],
   "source": [
    "np.argmax(1 <= np.array([0, 0, 1, 2, 3]))"
   ]
  },
  {
   "cell_type": "code",
   "execution_count": 64,
   "metadata": {},
   "outputs": [
    {
     "data": {
      "text/plain": [
       "-0.5"
      ]
     },
     "execution_count": 64,
     "metadata": {},
     "output_type": "execute_result"
    }
   ],
   "source": [
    "(X[1] - 3)*0.5 + "
   ]
  },
  {
   "cell_type": "code",
   "execution_count": null,
   "metadata": {},
   "outputs": [],
   "source": [
    "y1 = mx1 + b"
   ]
  }
 ],
 "metadata": {
  "kernelspec": {
   "display_name": "Python 3",
   "language": "python",
   "name": "python3"
  },
  "language_info": {
   "codemirror_mode": {
    "name": "ipython",
    "version": 3
   },
   "file_extension": ".py",
   "mimetype": "text/x-python",
   "name": "python",
   "nbconvert_exporter": "python",
   "pygments_lexer": "ipython3",
   "version": "3.6.5"
  }
 },
 "nbformat": 4,
 "nbformat_minor": 2
}
