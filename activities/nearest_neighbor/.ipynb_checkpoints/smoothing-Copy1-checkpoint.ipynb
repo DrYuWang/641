{
 "cells": [
  {
   "cell_type": "markdown",
   "metadata": {},
   "source": [
    "# Nonparametric regression"
   ]
  },
  {
   "cell_type": "code",
   "execution_count": 1,
   "metadata": {},
   "outputs": [],
   "source": [
    "import numpy as np"
   ]
  },
  {
   "cell_type": "markdown",
   "metadata": {},
   "source": [
    "## Nearest neighbor smoothers"
   ]
  },
  {
   "cell_type": "markdown",
   "metadata": {},
   "source": [
    " Write a nearest neighbor smoother."
   ]
  },
  {
   "cell_type": "code",
   "execution_count": 3,
   "metadata": {},
   "outputs": [
    {
     "name": "stdout",
     "output_type": "stream",
     "text": [
      "6 666 666 6666\n"
     ]
    }
   ],
   "source": [
    "def nns(xis, yis, x):\n",
    "    \"\"\"Return yis[i], where xis[i] is the entry of xis closest to x.\"\"\"\n",
    "    \n",
    "    i = np.argmin(np.abs(x - xis))\n",
    "    \n",
    "    return yis[i]\n",
    "\n",
    "# (Check) Should print \"6 666 666 6666\".\n",
    "print(nns(xis, yis, -1), nns(xis, yis, 4), nns(xis, yis, 5.1), nns(xis, yis, 100))"
   ]
  },
  {
   "cell_type": "markdown",
   "metadata": {},
   "source": [
    "Write a \"vectorized\" nearest neighbor smoother.\n",
    "\n",
    "Your solution here should be independent of your solution to the previous exercise.\n",
    "The naming clash is intentional."
   ]
  },
  {
   "cell_type": "code",
   "execution_count": 6,
   "metadata": {},
   "outputs": [
    {
     "name": "stdout",
     "output_type": "stream",
     "text": [
      "[   6  666  666 6666]\n"
     ]
    }
   ],
   "source": [
    "def nns(xis, yis, xs):\n",
    "    \"\"\"Same as nns, but returning a list of ys given a list of xs.\"\"\"\n",
    "    ys = yis[[np.argmin(np.abs(x - xis)) for x in xs]]\n",
    "    return ys\n",
    "\n",
    "# (Check) Should print [6, 666, 666, 6666].\n",
    "xis = np.array([0, 1, 5, 6.5])\n",
    "yis = np.array([6, 66, 666, 6666])\n",
    "print(nns(xis, yis, [-1, 4, 5.1, 100]))"
   ]
  },
  {
   "cell_type": "markdown",
   "metadata": {},
   "source": [
    "Write a \"higher order\" smoother function, i.e., a function that takes training data as input and return a function to evaluate on test data. Are there advantages to such an implementation over that of the previous exercise?"
   ]
  },
  {
   "cell_type": "code",
   "execution_count": 9,
   "metadata": {},
   "outputs": [
    {
     "name": "stdout",
     "output_type": "stream",
     "text": [
      "[   6  666  666 6666]\n"
     ]
    }
   ],
   "source": [
    "def nns_factory(xis, yis):\n",
    "    def nns(xs):\n",
    "        ys = yis[[np.argmin(np.abs(x - xis)) for x in xs]]\n",
    "        return ys\n",
    "    return nns\n",
    "\n",
    "# (Check) Should print [   6  666  666 6666].\n",
    "xis = np.array([0, 1, 5, 6.5])\n",
    "yis = np.array([6, 66, 666, 6666])\n",
    "nns = nns_factory(xis, yis)\n",
    "print(nns([-1, 4, 5.1, 100]))"
   ]
  },
  {
   "cell_type": "markdown",
   "metadata": {},
   "source": [
    "If you don't consider the \"higher order function\" pattern from the previous exercise to be particularly pythonic, you aren't alone. Let's write a class offering the same functionality, in the <code>sklearn</code> style."
   ]
  },
  {
   "cell_type": "code",
   "execution_count": 56,
   "metadata": {},
   "outputs": [
    {
     "name": "stdout",
     "output_type": "stream",
     "text": [
      "[   6  666  666 6666]\n"
     ]
    }
   ],
   "source": [
    "from sklearn.base import RegressorMixin\n",
    "from sklearn.utils.validation import check_X_y, check_array, check_is_fitted\n",
    "\n",
    "class NNS(RegressorMixin):\n",
    "    \n",
    "    def fit(self, X, y):\n",
    "        # Check that X and y have compatible shapes.\n",
    "        X, y = check_X_y(X, y)\n",
    "\n",
    "        # Store the training data on the instance. (Why?)\n",
    "        self.X_ = X\n",
    "        self.y_ = y\n",
    "        \n",
    "        return self\n",
    "    \n",
    "    def predict(self, X):\n",
    "        # Check is fit had been called.\n",
    "        check_is_fitted(self, ['X_', 'y_'])\n",
    "        \n",
    "        # Validate input type.\n",
    "        X = check_array(X)\n",
    "        \n",
    "        y = self.y_[[np.argmin(np.abs(x - self.X_)) for x in X]]\n",
    "        \n",
    "        return y\n",
    "    \n",
    "# (Check) Should print [6, 666, 666, 6666].\n",
    "X = np.array([0, 1, 5, 6.5]).reshape((-1, 1))\n",
    "y = np.array([6, 66, 666, 6666])\n",
    "X_test = np.array([-1, 4, 5.1, 100]).reshape(-1, 1)\n",
    "S = NNS().fit(X, y)\n",
    "print(S.predict(X_test))"
   ]
  },
  {
   "cell_type": "markdown",
   "metadata": {},
   "source": [
    "## Regression\n",
    "\n",
    "dataset $D$ $\\longrightarrow$ function $f$"
   ]
  },
  {
   "cell_type": "code",
   "execution_count": null,
   "metadata": {},
   "outputs": [],
   "source": []
  }
 ],
 "metadata": {
  "kernelspec": {
   "display_name": "Python 3",
   "language": "python",
   "name": "python3"
  },
  "language_info": {
   "codemirror_mode": {
    "name": "ipython",
    "version": 3
   },
   "file_extension": ".py",
   "mimetype": "text/x-python",
   "name": "python",
   "nbconvert_exporter": "python",
   "pygments_lexer": "ipython3",
   "version": "3.6.5"
  }
 },
 "nbformat": 4,
 "nbformat_minor": 2
}
