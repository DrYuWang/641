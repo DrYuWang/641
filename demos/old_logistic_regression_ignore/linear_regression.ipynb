{
 "cells": [
  {
   "cell_type": "code",
   "execution_count": 291,
   "metadata": {},
   "outputs": [],
   "source": [
    "from torch.autograd import Variable\n",
    "from torch.optim import SGD\n",
    "from torch import Tensor, ones, rand_like, cat, matmul, add, sub, nn\n",
    "import math"
   ]
  },
  {
   "cell_type": "markdown",
   "metadata": {},
   "source": [
    "## Linear Algebra"
   ]
  },
  {
   "cell_type": "code",
   "execution_count": 118,
   "metadata": {},
   "outputs": [
    {
     "name": "stdout",
     "output_type": "stream",
     "text": [
      "tensor([[1., 0.],\n",
      "        [1., 2.],\n",
      "        [1., 4.],\n",
      "        [1., 6.],\n",
      "        [1., 8.]])\n",
      "tensor([ 3.0958,  2.2656,  1.5475,  0.7787, -0.0077])\n"
     ]
    }
   ],
   "source": [
    "xT = Tensor([[1, 1, 1, 1, 1], [0, 2, 4, 6, 8]])\n",
    "x = xT.transpose(0, 1)\n",
    "b = Tensor([3, -0.4])\n",
    "y0 = matmul(x, b)\n",
    "y = add(y0, 0.2*rand_like(y0))\n",
    "print(x)\n",
    "print(y)"
   ]
  },
  {
   "cell_type": "code",
   "execution_count": 312,
   "metadata": {},
   "outputs": [
    {
     "name": "stdout",
     "output_type": "stream",
     "text": [
      "tensor([ 3.0748, -0.3847])\n"
     ]
    }
   ],
   "source": [
    "bhat = (xT @ x).inverse() @ xT @ y\n",
    "yhat = matmul(x, bhat)\n",
    "print(bhat)"
   ]
  },
  {
   "cell_type": "code",
   "execution_count": 120,
   "metadata": {},
   "outputs": [
    {
     "name": "stdout",
     "output_type": "stream",
     "text": [
      "tensor(0.0005)\n",
      "tensor(0.0005)\n"
     ]
    }
   ],
   "source": [
    "e = sub(yhat, y)\n",
    "print(e.dot(e)/5)\n",
    "loss = nn.MSELoss()\n",
    "print(loss(yhat, y))"
   ]
  },
  {
   "cell_type": "markdown",
   "metadata": {},
   "source": [
    "## Gradient Descent"
   ]
  },
  {
   "cell_type": "code",
   "execution_count": 178,
   "metadata": {},
   "outputs": [],
   "source": [
    "loss = nn.MSELoss()"
   ]
  },
  {
   "cell_type": "code",
   "execution_count": 309,
   "metadata": {},
   "outputs": [
    {
     "name": "stdout",
     "output_type": "stream",
     "text": [
      "tensor([ 3.0692, -0.3853], requires_grad=True)\n",
      "tensor([ 3.0748, -0.3847])\n"
     ]
    }
   ],
   "source": [
    "B0 = Tensor([2, -0.5])\n",
    "B = Variable(B0,requires_grad=True)\n",
    "for i in range(300):\n",
    "    L = loss(X @ B, y)\n",
    "    L.backward()\n",
    "#     print(B)\n",
    "    B = Variable(sub(B, 0.04*B.grad), requires_grad=True)\n",
    "\n",
    "print(B)\n",
    "print(bhat)"
   ]
  },
  {
   "cell_type": "code",
   "execution_count": 307,
   "metadata": {},
   "outputs": [
    {
     "name": "stdout",
     "output_type": "stream",
     "text": [
      "tensor([ 2.0000, -0.5000], requires_grad=True)\n",
      "defaultdict(<class 'dict'>, {})\n"
     ]
    },
    {
     "data": {
      "text/plain": [
       "defaultdict(dict, {})"
      ]
     },
     "execution_count": 307,
     "metadata": {},
     "output_type": "execute_result"
    }
   ],
   "source": [
    "B = Variable(B0,requires_grad=True)\n",
    "print(B)\n",
    "L = loss(X @ B, y)\n",
    "optimizer = SGD([B], lr = 0.008)\n",
    "print(optimizer.state)\n",
    "optimizer.step()\n",
    "optimizer.state"
   ]
  },
  {
   "cell_type": "code",
   "execution_count": 306,
   "metadata": {},
   "outputs": [],
   "source": [
    "def gradient(x, y):\n",
    "    xt = x.transpose(0, 1)\n",
    "    n = x.size(0)\n",
    "    def F(b):\n",
    "        return 2/n*matmul(xt, sub(x@b, y))\n",
    "    return F\n",
    "\n",
    "def gradient2(x, y):\n",
    "    n = x.size(0)\n",
    "    def F(b):\n",
    "        u = sum([b[0] + b[1]*x[i,1] - y[i] for i in range(n)])*2/n\n",
    "        v = sum([(b[0] + b[1]*x[i,1] - y[i])*x[i,1] for i in range(n)])*2/n\n",
    "        return Tensor([u, v])\n",
    "    return F\n",
    "    "
   ]
  },
  {
   "cell_type": "code",
   "execution_count": 214,
   "metadata": {},
   "outputs": [
    {
     "name": "stdout",
     "output_type": "stream",
     "text": [
      "tensor([ -3.0720, -14.1327])\n",
      "tensor([ -3.0720, -14.1327])\n"
     ]
    }
   ],
   "source": [
    "G = gradient(x, y)\n",
    "G2 = gradient2(x, y)\n",
    "print(G(b))\n",
    "print(G2(b))"
   ]
  },
  {
   "cell_type": "code",
   "execution_count": 205,
   "metadata": {},
   "outputs": [
    {
     "data": {
      "text/plain": [
       "tensor(-3.0720)"
      ]
     },
     "execution_count": 205,
     "metadata": {},
     "output_type": "execute_result"
    }
   ],
   "source": [
    "sum([b[0] + b[1]*x[i,1] - y[i] for i in range(5)])*2/5"
   ]
  },
  {
   "cell_type": "code",
   "execution_count": 208,
   "metadata": {},
   "outputs": [
    {
     "data": {
      "text/plain": [
       "tensor(-14.1327)"
      ]
     },
     "execution_count": 208,
     "metadata": {},
     "output_type": "execute_result"
    }
   ],
   "source": [
    "sum([(b[0] + b[1]*x[i,1] - y[i])*x[i,1] for i in range(5)])*2/5"
   ]
  },
  {
   "cell_type": "code",
   "execution_count": 184,
   "metadata": {},
   "outputs": [],
   "source": [
    "b = Tensor([2, -0.5])"
   ]
  },
  {
   "cell_type": "code",
   "execution_count": 185,
   "metadata": {},
   "outputs": [
    {
     "ename": "TypeError",
     "evalue": "'NoneType' object is not callable",
     "output_type": "error",
     "traceback": [
      "\u001b[0;31m---------------------------------------------------------------------------\u001b[0m",
      "\u001b[0;31mTypeError\u001b[0m                                 Traceback (most recent call last)",
      "\u001b[0;32m<ipython-input-185-5f925ca45cb0>\u001b[0m in \u001b[0;36m<module>\u001b[0;34m()\u001b[0m\n\u001b[0;32m----> 1\u001b[0;31m \u001b[0mgradient\u001b[0m\u001b[0;34m(\u001b[0m\u001b[0mx\u001b[0m\u001b[0;34m,\u001b[0m \u001b[0my\u001b[0m\u001b[0;34m)\u001b[0m\u001b[0;34m(\u001b[0m\u001b[0mb\u001b[0m\u001b[0;34m)\u001b[0m\u001b[0;34m\u001b[0m\u001b[0m\n\u001b[0m",
      "\u001b[0;31mTypeError\u001b[0m: 'NoneType' object is not callable"
     ]
    }
   ],
   "source": [
    "gradient(x, y)(b)"
   ]
  },
  {
   "cell_type": "code",
   "execution_count": 220,
   "metadata": {},
   "outputs": [],
   "source": [
    "xTx = matmul(xT, x)"
   ]
  },
  {
   "cell_type": "code",
   "execution_count": 222,
   "metadata": {},
   "outputs": [
    {
     "data": {
      "text/plain": [
       "(tensor([[  1.6210,   0.0000],\n",
       "         [123.3790,   0.0000]]), tensor([]))"
      ]
     },
     "execution_count": 222,
     "metadata": {},
     "output_type": "execute_result"
    }
   ],
   "source": [
    "xTx.eig()"
   ]
  },
  {
   "cell_type": "code",
   "execution_count": 304,
   "metadata": {},
   "outputs": [
    {
     "name": "stdout",
     "output_type": "stream",
     "text": [
      "2.4660627841949463\n"
     ]
    }
   ],
   "source": [
    "print(L.item())"
   ]
  },
  {
   "cell_type": "code",
   "execution_count": 305,
   "metadata": {},
   "outputs": [
    {
     "ename": "ValueError",
     "evalue": "only one element tensors can be converted to Python scalars",
     "output_type": "error",
     "traceback": [
      "\u001b[0;31m---------------------------------------------------------------------------\u001b[0m",
      "\u001b[0;31mValueError\u001b[0m                                Traceback (most recent call last)",
      "\u001b[0;32m<ipython-input-305-95a4debbca18>\u001b[0m in \u001b[0;36m<module>\u001b[0;34m()\u001b[0m\n\u001b[0;32m----> 1\u001b[0;31m \u001b[0mprint\u001b[0m\u001b[0;34m(\u001b[0m\u001b[0mx\u001b[0m\u001b[0;34m.\u001b[0m\u001b[0mitem\u001b[0m\u001b[0;34m(\u001b[0m\u001b[0;34m)\u001b[0m\u001b[0;34m)\u001b[0m\u001b[0;34m\u001b[0m\u001b[0m\n\u001b[0m",
      "\u001b[0;31mValueError\u001b[0m: only one element tensors can be converted to Python scalars"
     ]
    }
   ],
   "source": []
  },
  {
   "cell_type": "code",
   "execution_count": null,
   "metadata": {},
   "outputs": [],
   "source": []
  }
 ],
 "metadata": {
  "kernelspec": {
   "display_name": "Python 3",
   "language": "python",
   "name": "python3"
  },
  "language_info": {
   "codemirror_mode": {
    "name": "ipython",
    "version": 3
   },
   "file_extension": ".py",
   "mimetype": "text/x-python",
   "name": "python",
   "nbconvert_exporter": "python",
   "pygments_lexer": "ipython3",
   "version": "3.6.5"
  }
 },
 "nbformat": 4,
 "nbformat_minor": 2
}
