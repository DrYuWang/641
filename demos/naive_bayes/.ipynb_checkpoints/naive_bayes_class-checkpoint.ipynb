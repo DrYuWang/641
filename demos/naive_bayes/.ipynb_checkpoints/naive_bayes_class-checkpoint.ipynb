{
 "cells": [
  {
   "cell_type": "code",
   "execution_count": 10,
   "metadata": {},
   "outputs": [],
   "source": [
    "from sklearn.datasets import load_breast_cancer, load_digits\n",
    "import numpy as np\n",
    "from matplotlib import pyplot as plt\n",
    "from sklearn.naive_bayes import GaussianNB, BernoulliNB\n",
    "from sklearn.model_selection import train_test_split"
   ]
  },
  {
   "cell_type": "code",
   "execution_count": 14,
   "metadata": {},
   "outputs": [],
   "source": [
    "def train(x, y):\n",
    "    x0 = x[y == 0]\n",
    "    x1 = x[y == 1]\n",
    "    \n",
    "    p10 = x0.sum(axis=0)/len(x0)\n",
    "    p00 = 1 - p10\n",
    "    p11 = x1.sum(axis=0)/len(x1)\n",
    "    p01 = 1 - p11\n",
    "    return (np.array([p00, p10]), np.array([p01, p11]))\n",
    "\n",
    "def classify(x, p0, p1):\n",
    "    return [(np.prod(np.choose(x_i, p0)) < np.prod(np.choose(x_i, p1))) + 0 for x_i in x]"
   ]
  },
  {
   "cell_type": "code",
   "execution_count": 15,
   "metadata": {},
   "outputs": [
    {
     "data": {
      "image/png": "[encoded data removed]",
      "text/plain": [
       "<Figure size 432x432 with 1 Axes>"
      ]
     },
     "metadata": {},
     "output_type": "display_data"
    }
   ],
   "source": [
    "x_, y = load_breast_cancer(return_X_y=True)\n",
    "m = np.median(x_, axis=0)\n",
    "x = (x_ > m) + 0\n",
    "\n",
    "mcrs = []\n",
    "for i in range(100):\n",
    "    x_train, x_test, y_train, y_test = train_test_split(x, y, test_size=0.2, random_state=np.random.randint(10e5))\n",
    "\n",
    "    p0, p1 = train(x_train, y_train)\n",
    "    y_pred = classify(x_test, p0, p1)\n",
    "\n",
    "    mcr = (y_pred != y_test).sum()/len(y_test)\n",
    "    mcrs.append(mcr)\n",
    "\n",
    "plt.figure(figsize=(6, 6))\n",
    "plt.hist(mcrs)\n",
    "plt.xlabel(\"misclassification rate\", fontsize=18)\n",
    "plt.ylabel(\"count\", fontsize=18)\n",
    "plt.show()"
   ]
  },
  {
   "cell_type": "code",
   "execution_count": 16,
   "metadata": {},
   "outputs": [
    {
     "data": {
      "image/png": "[encoded data removed]",
      "text/plain": [
       "<Figure size 432x432 with 1 Axes>"
      ]
     },
     "metadata": {},
     "output_type": "display_data"
    }
   ],
   "source": [
    "x_, y = load_digits(return_X_y=True)\n",
    "x = (x_ > 8) + 0\n",
    "\n",
    "mcrs = []\n",
    "for i in range(100):\n",
    "    x_train, x_test, y_train, y_test = train_test_split(x, y, test_size=0.1, random_state=np.random.randint(10e5))\n",
    "\n",
    "    p0, p1 = train(x_train, y_train)\n",
    "    y_pred = classify(x_test, p0, p1)\n",
    "\n",
    "    mcr = (y_pred != y_test).sum()/len(y_test)\n",
    "    mcrs.append(mcr)\n",
    "\n",
    "plt.figure(figsize=(6, 6))\n",
    "plt.hist(mcrs)\n",
    "plt.xlabel(\"misclassification rate\", fontsize=18)\n",
    "plt.ylabel(\"count\", fontsize=18)\n",
    "plt.show()"
   ]
  },
  {
   "cell_type": "code",
   "execution_count": 17,
   "metadata": {},
   "outputs": [
    {
     "name": "stdout",
     "output_type": "stream",
     "text": [
      "[1, 1, 1, 1, 1, 0, 1, 0, 0, 0, 1, 1, 1, 1, 0, 0, 1, 1, 1, 1, 0, 1, 1, 0, 1, 0, 1, 1, 1, 1, 0, 0, 0, 0, 1, 1, 1, 1, 0, 0, 1, 1, 1, 1, 1, 0, 0, 0, 0, 0, 0, 1, 1, 1, 1, 0, 0, 0, 0, 0, 1, 0, 1, 0, 1, 0, 1, 1, 1, 1, 1, 1, 1, 1, 1, 1, 0, 1, 1, 0, 0, 0, 1, 1, 0, 0, 1, 0, 0, 1, 0, 0, 0, 1, 0, 0, 1, 0, 0, 1, 0, 0, 1, 0, 0, 0, 1, 1, 0, 0, 0, 1, 0, 0, 1, 1, 1, 1, 1, 0, 0, 1, 1, 1, 0, 1, 0, 0, 0, 1, 1, 1, 1, 1, 1, 0, 1, 1, 1, 0, 1, 1, 0, 0, 1, 0, 0, 0, 0, 1, 0, 1, 0, 1, 1, 0, 0, 0, 0, 0, 0, 1, 1, 0, 0, 0, 0, 1, 0, 0, 0, 1, 1, 0, 0, 0, 1, 1, 1, 0]\n"
     ]
    }
   ],
   "source": [
    "print(y_pred)"
   ]
  },
  {
   "cell_type": "code",
   "execution_count": 33,
   "metadata": {},
   "outputs": [
    {
     "data": {
      "text/plain": [
       "9"
      ]
     },
     "execution_count": 33,
     "metadata": {},
     "output_type": "execute_result"
    }
   ],
   "source": [
    "np.random.randint(10)"
   ]
  },
  {
   "cell_type": "code",
   "execution_count": 95,
   "metadata": {},
   "outputs": [
    {
     "name": "stdout",
     "output_type": "stream",
     "text": [
      "Number of mislabeled points out of a total 180 points : 16\n"
     ]
    }
   ],
   "source": [
    "x_, y = load_digits(return_X_y=True)\n",
    "x = (x_ > 8) + 0\n",
    "\n",
    "x_train, x_test, y_train, y_test = train_test_split(x, y, test_size=0.1, random_state=np.random.randint(10e5))\n",
    "bnb = BernoulliNB()\n",
    "y_pred = bnb.fit(x_train, y_train).predict(x_test)\n",
    "print(\"Number of mislabeled points out of a total %d points : %d\" % (x_test.shape[0], (y_test != y_pred).sum()))"
   ]
  },
  {
   "cell_type": "code",
   "execution_count": 103,
   "metadata": {},
   "outputs": [],
   "source": [
    "x__ = x_.reshape(x_.size)"
   ]
  },
  {
   "cell_type": "code",
   "execution_count": 108,
   "metadata": {},
   "outputs": [
    {
     "data": {
      "text/plain": [
       "8.0"
      ]
     },
     "execution_count": 108,
     "metadata": {},
     "output_type": "execute_result"
    }
   ],
   "source": [
    "np.median(np.unique(x_))"
   ]
  },
  {
   "cell_type": "code",
   "execution_count": null,
   "metadata": {},
   "outputs": [],
   "source": []
  }
 ],
 "metadata": {
  "kernelspec": {
   "display_name": "Python 3",
   "language": "python",
   "name": "python3"
  },
  "language_info": {
   "codemirror_mode": {
    "name": "ipython",
    "version": 3
   },
   "file_extension": ".py",
   "mimetype": "text/x-python",
   "name": "python",
   "nbconvert_exporter": "python",
   "pygments_lexer": "ipython3",
   "version": "3.6.5"
  }
 },
 "nbformat": 4,
 "nbformat_minor": 2
}
