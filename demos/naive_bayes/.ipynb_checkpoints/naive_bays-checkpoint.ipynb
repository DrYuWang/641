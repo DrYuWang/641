{
 "cells": [
  {
   "cell_type": "code",
   "execution_count": 1,
   "metadata": {},
   "outputs": [],
   "source": [
    "from sklearn.datasets import load_breast_cancer\n",
    "import numpy as np\n",
    "from matplotlib import pyplot as plt"
   ]
  },
  {
   "cell_type": "code",
   "execution_count": 2,
   "metadata": {},
   "outputs": [],
   "source": [
    "def train(x, y):\n",
    "    x0 = x[y == 0]\n",
    "    x1 = x[y == 1]\n",
    "    \n",
    "    p10 = x0.sum(axis=0)/len(x0)\n",
    "    p00 = 1 - p10\n",
    "    p11 = x1.sum(axis=0)/len(x1)\n",
    "    p01 = 1 - p11\n",
    "    return (np.array([p00, p10]), np.array([p01, p11]))\n",
    "\n",
    "def classify(x, p0, p1):\n",
    "    return [np.prod(np.choose(x_i, p0)) < np.prod(np.choose(x_i, p1)) for x_i in x]"
   ]
  },
  {
   "cell_type": "code",
   "execution_count": 3,
   "metadata": {},
   "outputs": [
    {
     "data": {
      "image/png": "[encoded data removed]",
      "text/plain": [
       "<Figure size 432x432 with 1 Axes>"
      ]
     },
     "metadata": {},
     "output_type": "display_data"
    }
   ],
   "source": [
    "x_, y_ = load_breast_cancer(return_X_y=True)\n",
    "(n_samples, n_features) = x_.shape\n",
    "xy = np.hstack([x_, y_.reshape(n_samples, 1)])\n",
    "\n",
    "mcrs = []\n",
    "for i in range(100):\n",
    "    np.random.shuffle(xy)\n",
    "    x = xy[:, :n_features]\n",
    "    y = xy[:, n_features]\n",
    "\n",
    "    x_train = x[:500, :]\n",
    "    x_test = x[500:, :]\n",
    "\n",
    "    y_train = y[:500]\n",
    "    y_test = y[500:]\n",
    "\n",
    "    # discretize each measurement: 0 if <= median) and 1 if > median\n",
    "    m = np.median(x_train, axis=0)\n",
    "    x_train_discrete = (x_train > m) + 0\n",
    "    x_test_discrete = (x_test > m) + 0\n",
    "    \n",
    "    p0, p1 = train(x_train_discrete, y_train)\n",
    "    pred = classify(x_test_discrete, p0, p1)\n",
    "\n",
    "    mcr = (pred != y_test).sum()/len(y_test)\n",
    "    mcrs.append(mcr)\n",
    "\n",
    "plt.figure(figsize=(6, 6))\n",
    "plt.hist(mcrs)\n",
    "plt.xlabel(\"misclassification rate\", fontsize=18)\n",
    "plt.ylabel(\"count\", fontsize=18)\n",
    "plt.show()"
   ]
  },
  {
   "cell_type": "code",
   "execution_count": null,
   "metadata": {},
   "outputs": [],
   "source": []
  },
  {
   "cell_type": "code",
   "execution_count": null,
   "metadata": {},
   "outputs": [],
   "source": []
  }
 ],
 "metadata": {
  "kernelspec": {
   "display_name": "Python 3",
   "language": "python",
   "name": "python3"
  },
  "language_info": {
   "codemirror_mode": {
    "name": "ipython",
    "version": 3
   },
   "file_extension": ".py",
   "mimetype": "text/x-python",
   "name": "python",
   "nbconvert_exporter": "python",
   "pygments_lexer": "ipython3",
   "version": "3.6.5"
  }
 },
 "nbformat": 4,
 "nbformat_minor": 2
}
