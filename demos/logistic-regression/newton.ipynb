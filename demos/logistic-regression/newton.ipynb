{
 "cells": [
  {
   "cell_type": "code",
   "execution_count": 188,
   "metadata": {},
   "outputs": [],
   "source": [
    "from torch.autograd import Variable\n",
    "from torch import Tensor, DoubleTensor\n",
    "import torch\n",
    "import math\n",
    "\n",
    "torch.set_printoptions(precision=16)"
   ]
  },
  {
   "cell_type": "code",
   "execution_count": 189,
   "metadata": {},
   "outputs": [
    {
     "name": "stdout",
     "output_type": "stream",
     "text": [
      "tensor([0.], requires_grad=True)\n",
      "tensor([0.])\n",
      "tensor([9.])\n",
      "tensor([-7.])\n"
     ]
    }
   ],
   "source": [
    "x = Variable(torch.Tensor([0]),requires_grad=True)\n",
    "y = Variable(torch.Tensor([0]),requires_grad=True)\n",
    "z = 5*x**4 + 3*x**3 -2*y**3 + 7*x**2 + 9*x - 7*y - 5\n",
    "print(x)\n",
    "print(x.data)\n",
    "z.backward()\n",
    "print(x.grad) # dz/dx\n",
    "print(y.grad) # dz/dy"
   ]
  },
  {
   "cell_type": "code",
   "execution_count": 190,
   "metadata": {},
   "outputs": [
    {
     "name": "stdout",
     "output_type": "stream",
     "text": [
      "tensor([0.7390851332151607], dtype=torch.float64)\n"
     ]
    }
   ],
   "source": [
    "x =  Variable(DoubleTensor([1]), requires_grad=True)\n",
    "\n",
    "for i in range(5):\n",
    "    y = x - torch.cos(x)\n",
    "    y.backward()\n",
    "    x = Variable(x.data - y.data/x.grad.data, requires_grad=True)\n",
    "\n",
    "print(x.data) # tensor([0.7390851332151607], dtype=torch.float64)"
   ]
  },
  {
   "cell_type": "code",
   "execution_count": 191,
   "metadata": {},
   "outputs": [
    {
     "name": "stdout",
     "output_type": "stream",
     "text": [
      "tensor([0.7417889255761136], dtype=torch.float64)\n"
     ]
    }
   ],
   "source": [
    "x =  Variable(DoubleTensor([1]), requires_grad=True)\n",
    "y = x - torch.cos(x)\n",
    "y.backward(retain_graph=True)\n",
    "\n",
    "for i in range(5):\n",
    "    x.data = x.data - y.data/x.grad.data\n",
    "    y.data = x.data - torch.cos(x.data)\n",
    "    y.backward(retain_graph=True)\n",
    "\n",
    "print(x.data) # tensor([0.7417889255761136], dtype=torch.float64)"
   ]
  },
  {
   "cell_type": "code",
   "execution_count": 192,
   "metadata": {},
   "outputs": [],
   "source": [
    "def g(x): return x - math.cos(x)\n",
    "def dg(x): return 1 + math.sin(x)\n",
    "\n",
    "def solve(x):\n",
    "    return x - g(x)/dg(x)"
   ]
  },
  {
   "cell_type": "code",
   "execution_count": 193,
   "metadata": {},
   "outputs": [
    {
     "name": "stdout",
     "output_type": "stream",
     "text": [
      "0.7503638678402439\n",
      "0.7391128909113617\n",
      "0.7390851333852839\n",
      "0.7390851332151606\n",
      "0.7390851332151607\n"
     ]
    }
   ],
   "source": [
    "x = 1\n",
    "for i in range(5):\n",
    "    x = solve(x)\n",
    "    print(x)"
   ]
  },
  {
   "cell_type": "code",
   "execution_count": null,
   "metadata": {},
   "outputs": [],
   "source": []
  }
 ],
 "metadata": {
  "kernelspec": {
   "display_name": "Python 3",
   "language": "python",
   "name": "python3"
  },
  "language_info": {
   "codemirror_mode": {
    "name": "ipython",
    "version": 3
   },
   "file_extension": ".py",
   "mimetype": "text/x-python",
   "name": "python",
   "nbconvert_exporter": "python",
   "pygments_lexer": "ipython3",
   "version": "3.6.5"
  }
 },
 "nbformat": 4,
 "nbformat_minor": 2
}
