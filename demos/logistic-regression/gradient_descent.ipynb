{
 "cells": [
  {
   "cell_type": "code",
   "execution_count": 1,
   "metadata": {},
   "outputs": [],
   "source": [
    "from torch.autograd import Variable\n",
    "from torch import Tensor, ones, rand_like, cat, matmul, add, sub, nn"
   ]
  },
  {
   "cell_type": "code",
   "execution_count": 26,
   "metadata": {},
   "outputs": [
    {
     "name": "stdout",
     "output_type": "stream",
     "text": [
      "tensor([0.4000], requires_grad=True)\n",
      "tensor([0.0800], requires_grad=True)\n",
      "tensor([0.0160], requires_grad=True)\n",
      "tensor([0.0032], requires_grad=True)\n",
      "tensor([0.0006], requires_grad=True)\n",
      "tensor([0.0001], requires_grad=True)\n",
      "tensor([2.5600e-05], requires_grad=True)\n"
     ]
    }
   ],
   "source": [
    "x = Variable(Tensor([2]), requires_grad=True)\n",
    "\n",
    "alpha = 0.4\n",
    "for i in range(7):\n",
    "    y = matmul(x, x)\n",
    "    y.backward()\n",
    "    dx = x.grad.data\n",
    "    x = Variable(x.data - alpha*x.grad.data, requires_grad=True)\n",
    "    print(x)"
   ]
  },
  {
   "cell_type": "code",
   "execution_count": null,
   "metadata": {},
   "outputs": [],
   "source": []
  }
 ],
 "metadata": {
  "kernelspec": {
   "display_name": "Python 3",
   "language": "python",
   "name": "python3"
  },
  "language_info": {
   "codemirror_mode": {
    "name": "ipython",
    "version": 3
   },
   "file_extension": ".py",
   "mimetype": "text/x-python",
   "name": "python",
   "nbconvert_exporter": "python",
   "pygments_lexer": "ipython3",
   "version": "3.6.5"
  }
 },
 "nbformat": 4,
 "nbformat_minor": 2
}
