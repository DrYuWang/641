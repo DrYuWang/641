{
 "cells": [
  {
   "cell_type": "markdown",
   "metadata": {},
   "source": [
    "### Regression with Neural Networks"
   ]
  },
  {
   "cell_type": "code",
   "execution_count": null,
   "metadata": {},
   "outputs": [],
   "source": [
    "import tensorflow as tf\n",
    "from tensorflow import keras\n",
    "import numpy as np\n",
    "from matplotlib import pyplot as plt\n",
    "import pandas as pd\n",
    "from sklearn.preprocessing import StandardScaler\n",
    "from sklearn.ensemble import RandomForestRegressor"
   ]
  },
  {
   "cell_type": "markdown",
   "metadata": {},
   "source": [
    "We'll work with the <a href=\"https://archive.ics.uci.edu/ml/datasets/auto+mpg\">Auto MPG Data Set</a> from the UC Irvine repository.\n",
    "\n",
    "We want to predict a car's fuel economy in miles per gallon (mpg) from its other characteristics using a neural network."
   ]
  },
  {
   "cell_type": "code",
   "execution_count": null,
   "metadata": {},
   "outputs": [],
   "source": [
    "names = [\"mpg\", \"cylinders\", \"displacement\", \"horsepower\", \"weight\", \"acceleration\", \"model year\", \"origin\", \"car name\"] \n",
    "df = pd.read_csv(\"https://raw.githubusercontent.com/mgreenbe/607/master/session_8/auto-mpg.csv\", sep=\",\", names=names, index_col=8)\n",
    "XX = df.values\n",
    "y = XX[:, 0] #mpg\n",
    "country = np.array([XX[:, -1] == 1., XX[:, -1] == 2., XX[:, -1] == 3.]).T*1\n",
    "X = np.hstack([XX[:, 1:-1], country])\n",
    "# StandardScaler(copy=False).fit(X).transform(X)\n",
    "df"
   ]
  },
  {
   "cell_type": "code",
   "execution_count": null,
   "metadata": {},
   "outputs": [],
   "source": [
    "# Simple linear regression\n",
    "model = keras.Sequential()\n",
    "model.add(keras.layers.Dense(1, activation=\"linear\"))\n",
    "\n",
    "model.compile(loss=\"mse\", optimizer=\"rmsprop\", metrics=[\"mse\"])\n",
    "model.fit(X, y, validation_split=0.2, epochs=200, verbose=0)\n",
    "plt.plot(model.history.history[\"loss\"], 'r', label=\"training error\")\n",
    "plt.plot(model.history.history[\"val_loss\"], 'b', label=\"testing error\")\n",
    "plt.legend(fontsize=18)\n",
    "plt.show()"
   ]
  }
 ],
 "metadata": {
  "kernelspec": {
   "display_name": "Python 3",
   "language": "python",
   "name": "python3"
  },
  "language_info": {
   "codemirror_mode": {
    "name": "ipython",
    "version": 3
   },
   "file_extension": ".py",
   "mimetype": "text/x-python",
   "name": "python",
   "nbconvert_exporter": "python",
   "pygments_lexer": "ipython3",
   "version": "3.6.5"
  }
 },
 "nbformat": 4,
 "nbformat_minor": 2
}
