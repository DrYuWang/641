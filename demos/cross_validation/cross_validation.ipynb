{
 "cells": [
  {
   "cell_type": "code",
   "execution_count": 29,
   "metadata": {},
   "outputs": [],
   "source": [
    "import numpy as np"
   ]
  },
  {
   "cell_type": "code",
   "execution_count": 160,
   "metadata": {},
   "outputs": [],
   "source": [
    "n = 1000\n",
    "p = 3\n",
    "I = np.identity(p)\n",
    "x = np.random.normal(size=(n, p))\n",
    "xt = x.transpose()\n",
    "b = np.random.uniform(size=p)\n",
    "y = np.random.normal(x @ b)\n",
    "\n",
    "\n",
    "bhat = np.linalg.inv(xt @ x + r*I) @ xt @ y"
   ]
  },
  {
   "cell_type": "code",
   "execution_count": 146,
   "metadata": {},
   "outputs": [],
   "source": [
    "def regularized_regression_coefficients(x, y, r):\n",
    "    xt = x.transpose()\n",
    "    p = x.shape[1]\n",
    "    I = np.identity(p)\n",
    "    return np.linalg.inv(xt @ x + r*I) @ xt @ y"
   ]
  },
  {
   "cell_type": "code",
   "execution_count": 173,
   "metadata": {},
   "outputs": [],
   "source": [
    "k = 5\n",
    "xy = np.hstack([x, y.reshape((n,1))])\n",
    "np.random.shuffle(xy)\n",
    "xys = np.array_split(xy, k)\n",
    "\n",
    "r = 0.01\n",
    "mses = []\n",
    "for i in range(k):\n",
    "    xy_i = xys[i]\n",
    "    x_i = xy_i[:, 0:p]\n",
    "    y_i = xy_i[:, p]\n",
    "    xy_minus_i = np.vstack([xys[j] for j in range(k) if j != i])\n",
    "    x_minus_i = xy_minus_i[:, 0:p]\n",
    "    y_minus_i = xy_minus_i[:, p]\n",
    "    b_minus_i = regularized_regression_coefficients(x_minus_i, y_minus_i, r)\n",
    "    mse_i = np.mean((x_i @ b_minus_i - y_i)**2)\n",
    "    mses.append(mse_i)"
   ]
  },
  {
   "cell_type": "code",
   "execution_count": 174,
   "metadata": {},
   "outputs": [
    {
     "data": {
      "text/plain": [
       "1.0048427067355488"
      ]
     },
     "execution_count": 174,
     "metadata": {},
     "output_type": "execute_result"
    }
   ],
   "source": [
    "np.mean(mses)"
   ]
  },
  {
   "cell_type": "code",
   "execution_count": 131,
   "metadata": {},
   "outputs": [
    {
     "data": {
      "text/plain": [
       "array([[-1.16217701, -0.55160133, -0.71648667, -1.86657773],\n",
       "       [-0.76036228,  0.40309189,  1.47541432,  0.64273755],\n",
       "       [-0.77678651,  1.24931845, -0.34716263, -0.07316812],\n",
       "       [-0.96901538,  2.04113439, -0.14210351,  0.37194225],\n",
       "       [-0.09803316,  0.20026594, -0.28664412,  1.68605681],\n",
       "       [-1.49837722, -0.03227066,  1.22276021, -0.19130665],\n",
       "       [-0.94010422,  0.11181148, -0.44502479,  0.3391064 ],\n",
       "       [-0.18893888, -1.7994916 ,  0.22002016, -1.60285095],\n",
       "       [ 0.91821383,  1.25684552, -0.31933003,  2.46031225],\n",
       "       [-0.04933989,  0.38671223,  1.05012248,  1.30312245]])"
      ]
     },
     "execution_count": 131,
     "metadata": {},
     "output_type": "execute_result"
    }
   ],
   "source": [
    "xy"
   ]
  },
  {
   "cell_type": "code",
   "execution_count": 143,
   "metadata": {},
   "outputs": [
    {
     "data": {
      "text/plain": [
       "3"
      ]
     },
     "execution_count": 143,
     "metadata": {},
     "output_type": "execute_result"
    }
   ],
   "source": [
    "x.shape[1]"
   ]
  },
  {
   "cell_type": "code",
   "execution_count": null,
   "metadata": {},
   "outputs": [],
   "source": []
  }
 ],
 "metadata": {
  "kernelspec": {
   "display_name": "Python 3",
   "language": "python",
   "name": "python3"
  },
  "language_info": {
   "codemirror_mode": {
    "name": "ipython",
    "version": 3
   },
   "file_extension": ".py",
   "mimetype": "text/x-python",
   "name": "python",
   "nbconvert_exporter": "python",
   "pygments_lexer": "ipython3",
   "version": "3.6.5"
  }
 },
 "nbformat": 4,
 "nbformat_minor": 2
}
