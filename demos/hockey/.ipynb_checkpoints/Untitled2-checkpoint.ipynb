{
 "cells": [
  {
   "cell_type": "code",
   "execution_count": 1,
   "metadata": {},
   "outputs": [],
   "source": [
    "import pandas as pd\n",
    "from matplotlib import pyplot as plt\n",
    "import numpy as np\n",
    "from sklearn import datasets\n",
    "from sklearn.preprocessing import StandardScaler\n",
    "from sklearn.decomposition import PCA\n",
    "from scipy.stats import ortho_group\n",
    "import string"
   ]
  },
  {
   "cell_type": "code",
   "execution_count": 82,
   "metadata": {},
   "outputs": [],
   "source": [
    "def line_factory(xmin, xmax, ymin, ymax):\n",
    "    def line(v):\n",
    "        if v[0] == 0:\n",
    "            return ([v[0], v[0]], [ymin, ymax])\n",
    "        else:\n",
    "            m = v[1]/v[0]\n",
    "            return ([xmin, xmax], [m*ymin, m*ymax])\n",
    "    return line"
   ]
  },
  {
   "cell_type": "code",
   "execution_count": 224,
   "metadata": {},
   "outputs": [
    {
     "data": {
      "text/plain": [
       "(3, 3)"
      ]
     },
     "execution_count": 224,
     "metadata": {},
     "output_type": "execute_result"
    }
   ],
   "source": [
    "v.shape"
   ]
  },
  {
   "cell_type": "code",
   "execution_count": 151,
   "metadata": {},
   "outputs": [
    {
     "data": {
      "text/plain": [
       "(-1.25, 1.25)"
      ]
     },
     "execution_count": 151,
     "metadata": {},
     "output_type": "execute_result"
    },
    {
     "data": {
      "image/png": "[encoded data removed]",
      "text/plain": [
       "<Figure size 432x288 with 1 Axes>"
      ]
     },
     "metadata": {},
     "output_type": "display_data"
    }
   ],
   "source": [
    "# np.random.seed(1)\n",
    "# np.random.seed(6)\n",
    "# np.random.seed(14)\n",
    "np.random.seed(17)\n",
    "x = np.random.uniform(-1.5, 1.5, size=9).reshape(3, 3)\n",
    "_, __, vt = np.linalg.svd(x)\n",
    "v = vt.T\n",
    "xv = x @ v \n",
    "\n",
    "(xmin, xmax, ymin, ymax) = (-1.25, 1.25, -1.25, 1.25)\n",
    "line = line_factory(xmin, xmax, ymin, ymax)\n",
    "Lv0 = line(v[:,0])\n",
    "Lv1 = line(v[:,1])\n",
    "Lv2 = line(v[:,2])\n",
    "plt.axes().set_aspect('equal')\n",
    "plt.autoscale(False)\n",
    "plt.plot(*Lv0, 'orange', zorder=1)\n",
    "plt.plot(*Lv1, 'orange', zorder=1)\n",
    "plt.plot(*Lv2, 'orange', zorder=1)\n",
    "plt.plot(x[0,0], x[0,1], \"ro\")\n",
    "plt.quiver([0, 0, 0], [0, 0, 0], v[0,:], v[1,:], angles='xy', scale_units='xy', scale=1, color=\"blue\", zorder=3)\n",
    "plt.quiver([0, 0], [0, 0], [1, 0], [0, 1], angles='xy', scale_units='xy', scale=1, color=\"black\", zorder=2)\n",
    "plt.plot([xv[0,0]*v[0,0]], [xv[0,0]*v[1, 0]], 'rs', zorder=4)\n",
    "plt.plot([xv[0,1]*v[0,1]], [xv[0,1]*v[1, 1]], 'rs', zorder=4)\n",
    "plt.plot([xv[0,2]*v[0,2]], [xv[0,2]*v[1, 2]], 'rs', zorder=4)\n",
    "plt.ylim(ymin, ymax)\n",
    "plt.xlim(xmin, xmax)"
   ]
  },
  {
   "cell_type": "code",
   "execution_count": 49,
   "metadata": {},
   "outputs": [
    {
     "name": "stdout",
     "output_type": "stream",
     "text": [
      "[-0.29711436  1.25833496  0.94158916]\n",
      "0.9415891607987181\n"
     ]
    }
   ],
   "source": [
    "[a, b, c] = xv[0, 0]* v[:,0] + xv[0, 1]* v[:,1] + xv[0, 2]* v[:,2]\n",
    "print(x[0,:])\n",
    "print(c)"
   ]
  },
  {
   "cell_type": "code",
   "execution_count": 34,
   "metadata": {},
   "outputs": [],
   "source": [
    "v0 = v[:,0].reshape(3, 1)\n",
    "p0 = v0 @ np.linalg.inv(v0.T @ v0) @ v0.T"
   ]
  },
  {
   "cell_type": "code",
   "execution_count": 84,
   "metadata": {},
   "outputs": [
    {
     "data": {
      "text/plain": [
       "([-2, 2], [-1.2478959506957676, 1.2478959506957676])"
      ]
     },
     "execution_count": 84,
     "metadata": {},
     "output_type": "execute_result"
    }
   ],
   "source": [
    "Lv0"
   ]
  },
  {
   "cell_type": "code",
   "execution_count": 74,
   "metadata": {},
   "outputs": [],
   "source": [
    "def line(v, xmin, xmax, ymin, ymax):\n",
    "    if v[0] == 0:\n",
    "        return ([v[0], v[0]], [ymin, ymax])\n",
    "    else:\n",
    "        m = v[1]/v[0]\n",
    "        return ([xmin, xmax], [m*ymin, m*ymax])"
   ]
  },
  {
   "cell_type": "code",
   "execution_count": 75,
   "metadata": {},
   "outputs": [],
   "source": [
    "u = line(v[:,0], -2, 2, -2, 2)"
   ]
  },
  {
   "cell_type": "code",
   "execution_count": 205,
   "metadata": {},
   "outputs": [],
   "source": [
    "names = [\"symboling\", \"normalized losses\", \"make\", \"fuel type\", \"aspiration\",\n",
    "        \"number of doors\", \"body style\", \"drive wheels\", \"engine location\", \"wheel base\", \"length\",\n",
    "        \"width\", \"height\", \"curb weight\", \"engine type\", \"number of cylinders\", \"engine size\", \"fuel system\", \n",
    "        \"bore\", \"stroke\", \"compression ratio\", \"horsepower\", \"peak rpm\", \"city mpg\", \"highway mpg\", \"price\"]\n",
    "\n",
    "usecols = [\"wheel base\", \"length\",\n",
    "        \"width\", \"height\", \"curb weight\", \"number of cylinders\", \"engine size\",\n",
    "        \"bore\", \"stroke\", \"compression ratio\", \"horsepower\", \"peak rpm\", \"city mpg\", \"highway mpg\", \"price\"]\n",
    "\n",
    "numbers = {\"two\": 2, \"three\": 3, \"four\": 4, \"five\": 5, \"six\": 6, \"eight\": 8, \"twelve\": 12}"
   ]
  },
  {
   "cell_type": "code",
   "execution_count": 207,
   "metadata": {},
   "outputs": [],
   "source": [
    "df = pd.read_csv('https://archive.ics.uci.edu/ml/machine-learning-databases/autos/imports-85.data',\n",
    "                names=names, usecols=usecols)\n",
    "\n",
    "df['number of cylinders'] = df['number of cylinders'].apply(lambda n: numbers[n])\n",
    "\n",
    "for col in df.columns:\n",
    "    df[col] = pd.to_numeric(df[col], errors=\"coerce\")\n",
    "\n",
    "df.dropna(inplace=True)\n",
    "\n",
    "df = (df-df.mean())/df.std()"
   ]
  },
  {
   "cell_type": "code",
   "execution_count": 210,
   "metadata": {},
   "outputs": [],
   "source": [
    "# df.to_csv(\"cars_normalized.csv\", index=False)"
   ]
  },
  {
   "cell_type": "code",
   "execution_count": 211,
   "metadata": {},
   "outputs": [],
   "source": [
    "cars = pd.read_csv('cars_normalized.csv')"
   ]
  },
  {
   "cell_type": "code",
   "execution_count": 244,
   "metadata": {},
   "outputs": [
    {
     "name": "stdout",
     "output_type": "stream",
     "text": [
      "(15, 15)\n"
     ]
    }
   ],
   "source": [
    "x = cars.values\n",
    "u, s, vt = np.linalg.svd(x)\n",
    "explained = [ np.sum(np.square(s[:k+1]))/np.sum(np.square(s)) for k in range(len(s))]\n",
    "v = vt.T\n",
    "xv = x @ v \n",
    "print(v.shape)"
   ]
  },
  {
   "cell_type": "code",
   "execution_count": 223,
   "metadata": {},
   "outputs": [
    {
     "data": {
      "image/png": "[encoded data removed]",
      "text/plain": [
       "<Figure size 432x288 with 1 Axes>"
      ]
     },
     "metadata": {},
     "output_type": "display_data"
    }
   ],
   "source": [
    "plt.plot(range(len(s)), explained, range(len(s)), s/np.max(s))\n",
    "plt.margins(0, 0.1)"
   ]
  },
  {
   "cell_type": "code",
   "execution_count": 247,
   "metadata": {},
   "outputs": [
    {
     "data": {
      "text/plain": [
       "<matplotlib.quiver.Quiver at 0x1a1ba302e8>"
      ]
     },
     "execution_count": 247,
     "metadata": {},
     "output_type": "execute_result"
    },
    {
     "data": {
      "image/png": "[encoded data removed]",
      "text/plain": [
       "<Figure size 432x288 with 1 Axes>"
      ]
     },
     "metadata": {},
     "output_type": "display_data"
    }
   ],
   "source": [
    "plt.xlim(-0.5, 0.5)\n",
    "plt.ylim(-0.5, 0.5)\n",
    "plt.quiver([0 for i in range(15)], [0 for i in range(15)], ux, uy, angles='xy', scale_units='xy', scale=1, color=\"blue\", zorder=3)\n"
   ]
  },
  {
   "cell_type": "code",
   "execution_count": 236,
   "metadata": {},
   "outputs": [
    {
     "data": {
      "text/plain": [
       "(15, 2)"
      ]
     },
     "execution_count": 236,
     "metadata": {},
     "output_type": "execute_result"
    }
   ],
   "source": [
    "(v[:, :2]).shape"
   ]
  },
  {
   "cell_type": "code",
   "execution_count": 245,
   "metadata": {},
   "outputs": [],
   "source": [
    "[ux, uy] = v.T[:2, :]"
   ]
  },
  {
   "cell_type": "code",
   "execution_count": 241,
   "metadata": {},
   "outputs": [
    {
     "data": {
      "text/plain": [
       "array([0.27243786, 0.31313278, 0.31255572, 0.09643922])"
      ]
     },
     "execution_count": 241,
     "metadata": {},
     "output_type": "execute_result"
    }
   ],
   "source": [
    "u"
   ]
  },
  {
   "cell_type": "code",
   "execution_count": 242,
   "metadata": {},
   "outputs": [
    {
     "data": {
      "text/plain": [
       "array([-0.31411018, -0.19095327, -0.14091391, -0.42212861])"
      ]
     },
     "execution_count": 242,
     "metadata": {},
     "output_type": "execute_result"
    }
   ],
   "source": [
    "v"
   ]
  },
  {
   "cell_type": "code",
   "execution_count": 256,
   "metadata": {},
   "outputs": [
    {
     "name": "stdout",
     "output_type": "stream",
     "text": [
      "[ 0.27243786  0.31313278  0.31255572  0.09643922  0.34090628  0.24682657\n",
      "  0.32154223  0.24316566  0.04860502  0.01085369  0.29606855 -0.07491814\n",
      " -0.30004986 -0.30981588  0.31513351]\n",
      "[-0.31411018 -0.19095327 -0.14091391 -0.42212861 -0.07879005  0.18539958\n",
      "  0.08740689 -0.03782081 -0.10929635 -0.49116809  0.28829303  0.4313084\n",
      " -0.23499806 -0.18702407  0.06809854]\n"
     ]
    }
   ],
   "source": [
    "print(v[:,0])\n",
    "print(v[:,1])"
   ]
  },
  {
   "cell_type": "code",
   "execution_count": 263,
   "metadata": {},
   "outputs": [
    {
     "data": {
      "text/plain": [
       "array([13, 12, 11,  9,  8,  3,  7,  5,  0, 10,  2,  1, 14,  6,  4])"
      ]
     },
     "execution_count": 263,
     "metadata": {},
     "output_type": "execute_result"
    }
   ],
   "source": [
    "np.argsort(np.av[:,0])"
   ]
  },
  {
   "cell_type": "code",
   "execution_count": null,
   "metadata": {},
   "outputs": [],
   "source": []
  },
  {
   "cell_type": "code",
   "execution_count": 264,
   "metadata": {},
   "outputs": [
    {
     "data": {
      "text/plain": [
       "array([ 9,  3,  0, 12,  1, 13,  2,  8,  4,  7, 14,  6,  5, 10, 11])"
      ]
     },
     "execution_count": 264,
     "metadata": {},
     "output_type": "execute_result"
    }
   ],
   "source": [
    "np.argsort(v[:,1])"
   ]
  },
  {
   "cell_type": "code",
   "execution_count": 262,
   "metadata": {},
   "outputs": [
    {
     "data": {
      "text/plain": [
       "'compression ratio'"
      ]
     },
     "execution_count": 262,
     "metadata": {},
     "output_type": "execute_result"
    }
   ],
   "source": [
    "usecols[9]"
   ]
  },
  {
   "cell_type": "code",
   "execution_count": null,
   "metadata": {},
   "outputs": [],
   "source": []
  }
 ],
 "metadata": {
  "kernelspec": {
   "display_name": "Python 3",
   "language": "python",
   "name": "python3"
  },
  "language_info": {
   "codemirror_mode": {
    "name": "ipython",
    "version": 3
   },
   "file_extension": ".py",
   "mimetype": "text/x-python",
   "name": "python",
   "nbconvert_exporter": "python",
   "pygments_lexer": "ipython3",
   "version": "3.6.5"
  }
 },
 "nbformat": 4,
 "nbformat_minor": 2
}
