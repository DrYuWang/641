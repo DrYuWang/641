{
 "cells": [
  {
   "cell_type": "code",
   "execution_count": 229,
   "metadata": {},
   "outputs": [],
   "source": [
    "import pandas as pd\n",
    "from matplotlib import pyplot as plt\n",
    "import numpy as np\n",
    "from sklearn import datasets\n",
    "from sklearn.preprocessing import StandardScaler\n",
    "from sklearn.decomposition import PCA"
   ]
  },
  {
   "cell_type": "code",
   "execution_count": 282,
   "metadata": {},
   "outputs": [],
   "source": [
    "iris = datasets.load_iris()\n",
    "data = iris['data']\n",
    "C = data - np.mean(data, axis=0) # center\n",
    "x = C / np.std(C, axis=0) # normalize\n",
    "y = iris['target']"
   ]
  },
  {
   "cell_type": "code",
   "execution_count": 290,
   "metadata": {},
   "outputs": [
    {
     "data": {
      "image/png": "[encoded data removed]",
      "text/plain": [
       "<Figure size 432x288 with 1 Axes>"
      ]
     },
     "metadata": {},
     "output_type": "display_data"
    }
   ],
   "source": [
    "_, v = np.linalg.eigh(x.T @ x)\n",
    "v[:,3] = -v[:,3]\n",
    "v[:,2] = -v[:,2]\n",
    "pcs = x @ v\n",
    "plt.plot(pcs[y == 0,3], pcs[y == 0,2], 'bo')\n",
    "plt.plot(pcs[y == 1,3], pcs[y == 1,2], 'go')\n",
    "plt.plot(pcs[y == 2,3], pcs[y == 2,2], 'ro')\n",
    "plt.axis('equal')\n",
    "plt.quiver([0, 0, 0, 0], [0, 0, 0, 0], 3*v[:,2], 3*v[:,3], angles='xy', scale_units='xy', scale=1)\n",
    "plt.show()"
   ]
  },
  {
   "cell_type": "code",
   "execution_count": 292,
   "metadata": {},
   "outputs": [
    {
     "data": {
      "text/plain": [
       "array([[ 0.52237162, -0.37231836],\n",
       "       [-0.26335492, -0.92555649],\n",
       "       [ 0.58125401, -0.02109478],\n",
       "       [ 0.56561105, -0.06541577]])"
      ]
     },
     "execution_count": 292,
     "metadata": {},
     "output_type": "execute_result"
    }
   ],
   "source": [
    "v[:,[3, 2]]"
   ]
  },
  {
   "cell_type": "code",
   "execution_count": 293,
   "metadata": {},
   "outputs": [
    {
     "data": {
      "text/plain": [
       "array([[ 0.26199559,  0.72101681, -0.37231836,  0.52237162],\n",
       "       [-0.12413481, -0.24203288, -0.92555649, -0.26335492],\n",
       "       [-0.80115427, -0.14089226, -0.02109478,  0.58125401],\n",
       "       [ 0.52354627, -0.6338014 , -0.06541577,  0.56561105]])"
      ]
     },
     "execution_count": 293,
     "metadata": {},
     "output_type": "execute_result"
    }
   ],
   "source": [
    "v"
   ]
  },
  {
   "cell_type": "code",
   "execution_count": null,
   "metadata": {},
   "outputs": [],
   "source": []
  }
 ],
 "metadata": {
  "kernelspec": {
   "display_name": "Python 3",
   "language": "python",
   "name": "python3"
  },
  "language_info": {
   "codemirror_mode": {
    "name": "ipython",
    "version": 3
   },
   "file_extension": ".py",
   "mimetype": "text/x-python",
   "name": "python",
   "nbconvert_exporter": "python",
   "pygments_lexer": "ipython3",
   "version": "3.6.5"
  }
 },
 "nbformat": 4,
 "nbformat_minor": 2
}
