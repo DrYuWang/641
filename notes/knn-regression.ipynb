{
 "cells": [
  {
   "cell_type": "code",
   "execution_count": 83,
   "metadata": {},
   "outputs": [],
   "source": [
    "import numpy as np\n",
    "import matplotlib.pyplot as plt\n",
    "from sklearn.neighbors import KNeighborsRegressor as knn\n",
    "from sklearn.datasets import load_boston"
   ]
  },
  {
   "cell_type": "code",
   "execution_count": 82,
   "metadata": {},
   "outputs": [
    {
     "data": {
      "text/plain": [
       "[<matplotlib.lines.Line2D at 0x1a16de62b0>,\n",
       " <matplotlib.lines.Line2D at 0x1a16de6470>]"
      ]
     },
     "execution_count": 82,
     "metadata": {},
     "output_type": "execute_result"
    },
    {
     "data": {
      "image/png": "[encoded data removed]",
      "text/plain": [
       "<Figure size 432x288 with 1 Axes>"
      ]
     },
     "metadata": {},
     "output_type": "display_data"
    }
   ],
   "source": [
    "n = 10\n",
    "k = 3\n",
    "x = np.linspace(0, 1, n)\n",
    "xx = np.linspace(0, 1, 100)\n",
    "y = x**4 + 0.075*np.random.randn(n)\n",
    "x.shape = (n, 1)\n",
    "xx.shape = (100, 1)\n",
    "R = knn(n_neighbors=k, weights='uniform')\n",
    "yy = R.fit(x, y).predict(xx)\n",
    "plt.plot(xx, yy, x, y, 'o')"
   ]
  },
  {
   "cell_type": "code",
   "execution_count": 90,
   "metadata": {},
   "outputs": [],
   "source": [
    "(data, target) = load_boston(return_X_y=True)"
   ]
  },
  {
   "cell_type": "code",
   "execution_count": 200,
   "metadata": {},
   "outputs": [],
   "source": [
    "x = data[:,5]\n",
    "y = target\n",
    "i = np.argsort(x);\n",
    "x = x[i]\n",
    "y = y[i]"
   ]
  },
  {
   "cell_type": "code",
   "execution_count": 252,
   "metadata": {},
   "outputs": [],
   "source": [
    "n = 100\n",
    "j = np.array([k for k in range(len(x))])\n",
    "np.random.shuffle(j)\n",
    "j = j[:n]\n",
    "j.sort()\n",
    "xx = x[j]\n",
    "yy = y[j]"
   ]
  },
  {
   "cell_type": "code",
   "execution_count": 261,
   "metadata": {},
   "outputs": [
    {
     "data": {
      "text/plain": [
       "[<matplotlib.lines.Line2D at 0x1a18def898>,\n",
       " <matplotlib.lines.Line2D at 0x1a18defa20>]"
      ]
     },
     "execution_count": 261,
     "metadata": {},
     "output_type": "execute_result"
    },
    {
     "data": {
      "image/png": "[encoded data removed]",
      "text/plain": [
       "<Figure size 432x288 with 1 Axes>"
      ]
     },
     "metadata": {},
     "output_type": "display_data"
    }
   ],
   "source": [
    "xxx = xx\n",
    "xxx.shape = (n, 1)\n",
    "xxx.shape\n",
    "ttt = np.linspace(4.5, 9, 200)\n",
    "ttt.shape = (200, 1)\n",
    "S = knn(n_neighbors=10, weights='distance')\n",
    "yyy = S.fit(xxx, yy).predict(ttt)\n",
    "plt.plot(xx, yy, 'o', ttt, yyy)"
   ]
  },
  {
   "cell_type": "code",
   "execution_count": 236,
   "metadata": {},
   "outputs": [
    {
     "data": {
      "text/plain": [
       "8.704"
      ]
     },
     "execution_count": 236,
     "metadata": {},
     "output_type": "execute_result"
    }
   ],
   "source": [
    "np.max(xx)"
   ]
  },
  {
   "cell_type": "code",
   "execution_count": 145,
   "metadata": {},
   "outputs": [
    {
     "data": {
      "text/plain": [
       "array(['CRIM', 'ZN', 'INDUS', 'CHAS', 'NOX', 'RM', 'AGE', 'DIS', 'RAD',\n",
       "       'TAX', 'PTRATIO', 'B', 'LSTAT'], dtype='<U7')"
      ]
     },
     "execution_count": 145,
     "metadata": {},
     "output_type": "execute_result"
    }
   ],
   "source": [
    "boston.feature_names"
   ]
  },
  {
   "cell_type": "code",
   "execution_count": 152,
   "metadata": {},
   "outputs": [],
   "source": [
    "z = data[:, -1]"
   ]
  },
  {
   "cell_type": "code",
   "execution_count": 153,
   "metadata": {},
   "outputs": [
    {
     "data": {
      "text/plain": [
       "array([ 4.98,  9.14,  4.03,  2.94,  5.33,  5.21, 12.43, 19.15, 29.93,\n",
       "       17.1 , 20.45, 13.27, 15.71,  8.26, 10.26,  8.47,  6.58, 14.67,\n",
       "       11.69, 11.28, 21.02, 13.83, 18.72, 19.88, 16.3 , 16.51, 14.81,\n",
       "       17.28, 12.8 , 11.98, 22.6 , 13.04, 27.71, 18.35, 20.34,  9.68,\n",
       "       11.41,  8.77, 10.13,  4.32,  1.98,  4.84,  5.81,  7.44,  9.55,\n",
       "       10.21, 14.15, 18.8 , 30.81, 16.2 , 13.45,  9.43,  5.28,  8.43,\n",
       "       14.8 ,  4.81,  5.77,  3.95,  6.86,  9.22, 13.15, 14.44,  6.73,\n",
       "        9.5 ,  8.05,  4.67, 10.24,  8.1 , 13.09,  8.79,  6.72,  9.88,\n",
       "        5.52,  7.54,  6.78,  8.94, 11.97, 10.27, 12.34,  9.1 ,  5.29,\n",
       "        7.22,  6.72,  7.51,  9.62,  6.53, 12.86,  8.44,  5.5 ,  5.7 ,\n",
       "        8.81,  8.2 ,  8.16,  6.21, 10.59,  6.65, 11.34,  4.21,  3.57,\n",
       "        6.19,  9.42,  7.67, 10.63, 13.44, 12.33, 16.47, 18.66, 14.09,\n",
       "       12.27, 15.55, 13.  , 10.16, 16.21, 17.09, 10.45, 15.76, 12.04,\n",
       "       10.3 , 15.37, 13.61, 14.37, 14.27, 17.93, 25.41, 17.58, 14.81,\n",
       "       27.26, 17.19, 15.39, 18.34, 12.6 , 12.26, 11.12, 15.03, 17.31,\n",
       "       16.96, 16.9 , 14.59, 21.32, 18.46, 24.16, 34.41, 26.82, 26.42,\n",
       "       29.29, 27.8 , 16.65, 29.53, 28.32, 21.45, 14.1 , 13.28, 12.12,\n",
       "       15.79, 15.12, 15.02, 16.14,  4.59,  6.43,  7.39,  5.5 ,  1.73,\n",
       "        1.92,  3.32, 11.64,  9.81,  3.7 , 12.14, 11.1 , 11.32, 14.43,\n",
       "       12.03, 14.69,  9.04,  9.64,  5.33, 10.11,  6.29,  6.92,  5.04,\n",
       "        7.56,  9.45,  4.82,  5.68, 13.98, 13.15,  4.45,  6.68,  4.56,\n",
       "        5.39,  5.1 ,  4.69,  2.87,  5.03,  4.38,  2.97,  4.08,  8.61,\n",
       "        6.62,  4.56,  4.45,  7.43,  3.11,  3.81,  2.88, 10.87, 10.97,\n",
       "       18.06, 14.66, 23.09, 17.27, 23.98, 16.03,  9.38, 29.55,  9.47,\n",
       "       13.51,  9.69, 17.92, 10.5 ,  9.71, 21.46,  9.93,  7.6 ,  4.14,\n",
       "        4.63,  3.13,  6.36,  3.92,  3.76, 11.65,  5.25,  2.47,  3.95,\n",
       "        8.05, 10.88,  9.54,  4.73,  6.36,  7.37, 11.38, 12.4 , 11.22,\n",
       "        5.19, 12.5 , 18.46,  9.16, 10.15,  9.52,  6.56,  5.9 ,  3.59,\n",
       "        3.53,  3.54,  6.57,  9.25,  3.11,  5.12,  7.79,  6.9 ,  9.59,\n",
       "        7.26,  5.91, 11.25,  8.1 , 10.45, 14.79,  7.44,  3.16, 13.65,\n",
       "       13.  ,  6.59,  7.73,  6.58,  3.53,  2.98,  6.05,  4.16,  7.19,\n",
       "        4.85,  3.76,  4.59,  3.01,  3.16,  7.85,  8.23, 12.93,  7.14,\n",
       "        7.6 ,  9.51,  3.33,  3.56,  4.7 ,  8.58, 10.4 ,  6.27,  7.39,\n",
       "       15.84,  4.97,  4.74,  6.07,  9.5 ,  8.67,  4.86,  6.93,  8.93,\n",
       "        6.47,  7.53,  4.54,  9.97, 12.64,  5.98, 11.72,  7.9 ,  9.28,\n",
       "       11.5 , 18.33, 15.94, 10.36, 12.73,  7.2 ,  6.87,  7.7 , 11.74,\n",
       "        6.12,  5.08,  6.15, 12.79,  9.97,  7.34,  9.09, 12.43,  7.83,\n",
       "        5.68,  6.75,  8.01,  9.8 , 10.56,  8.51,  9.74,  9.29,  5.49,\n",
       "        8.65,  7.18,  4.61, 10.53, 12.67,  6.36,  5.99,  5.89,  5.98,\n",
       "        5.49,  7.79,  4.5 ,  8.05,  5.57, 17.6 , 13.27, 11.48, 12.67,\n",
       "        7.79, 14.19, 10.19, 14.64,  5.29,  7.12, 14.  , 13.33,  3.26,\n",
       "        3.73,  2.96,  9.53,  8.88, 34.77, 37.97, 13.44, 23.24, 21.24,\n",
       "       23.69, 21.78, 17.21, 21.08, 23.6 , 24.56, 30.63, 30.81, 28.28,\n",
       "       31.99, 30.62, 20.85, 17.11, 18.76, 25.68, 15.17, 16.35, 17.12,\n",
       "       19.37, 19.92, 30.59, 29.97, 26.77, 20.32, 20.31, 19.77, 27.38,\n",
       "       22.98, 23.34, 12.13, 26.4 , 19.78, 10.11, 21.22, 34.37, 20.08,\n",
       "       36.98, 29.05, 25.79, 26.64, 20.62, 22.74, 15.02, 15.7 , 14.1 ,\n",
       "       23.29, 17.16, 24.39, 15.69, 14.52, 21.52, 24.08, 17.64, 19.69,\n",
       "       12.03, 16.22, 15.17, 23.27, 18.05, 26.45, 34.02, 22.88, 22.11,\n",
       "       19.52, 16.59, 18.85, 23.79, 23.98, 17.79, 16.44, 18.13, 19.31,\n",
       "       17.44, 17.73, 17.27, 16.74, 18.71, 18.13, 19.01, 16.94, 16.23,\n",
       "       14.7 , 16.42, 14.65, 13.99, 10.29, 13.22, 14.13, 17.15, 21.32,\n",
       "       18.13, 14.76, 16.29, 12.87, 14.36, 11.66, 18.14, 24.1 , 18.68,\n",
       "       24.91, 18.03, 13.11, 10.74,  7.74,  7.01, 10.42, 13.34, 10.58,\n",
       "       14.98, 11.45, 18.06, 23.97, 29.68, 18.07, 13.35, 12.01, 13.59,\n",
       "       17.6 , 21.14, 14.1 , 12.92, 15.1 , 14.33,  9.67,  9.08,  5.64,\n",
       "        6.48,  7.88])"
      ]
     },
     "execution_count": 153,
     "metadata": {},
     "output_type": "execute_result"
    }
   ],
   "source": [
    "z"
   ]
  },
  {
   "cell_type": "code",
   "execution_count": 154,
   "metadata": {},
   "outputs": [
    {
     "data": {
      "text/plain": [
       "[<matplotlib.lines.Line2D at 0x1a17192438>]"
      ]
     },
     "execution_count": 154,
     "metadata": {},
     "output_type": "execute_result"
    },
    {
     "data": {
      "image/png": "[encoded data removed]",
      "text/plain": [
       "<Figure size 432x288 with 1 Axes>"
      ]
     },
     "metadata": {},
     "output_type": "display_data"
    }
   ],
   "source": [
    "plt.plot(x[i], z[i])"
   ]
  },
  {
   "cell_type": "code",
   "execution_count": 181,
   "metadata": {},
   "outputs": [
    {
     "data": {
      "text/plain": [
       "array([ 0,  1,  2,  3,  4,  5,  6,  7,  8,  9, 10, 11, 12, 13, 14, 15, 16,\n",
       "       17, 18, 19, 20, 21, 22, 23, 24, 25, 26, 27, 28, 29])"
      ]
     },
     "execution_count": 181,
     "metadata": {},
     "output_type": "execute_result"
    }
   ],
   "source": [
    "x = np.array([n for n in range(len(x))])\n",
    "x"
   ]
  },
  {
   "cell_type": "code",
   "execution_count": 180,
   "metadata": {},
   "outputs": [],
   "source": [
    "np.random.shuffle(x)"
   ]
  },
  {
   "cell_type": "code",
   "execution_count": 177,
   "metadata": {},
   "outputs": [],
   "source": [
    "z = x[:10]\n",
    "z.sort()"
   ]
  },
  {
   "cell_type": "code",
   "execution_count": 178,
   "metadata": {},
   "outputs": [
    {
     "data": {
      "text/plain": [
       "array([ 1,  6,  7, 11, 12, 13, 18, 22, 23, 24])"
      ]
     },
     "execution_count": 178,
     "metadata": {},
     "output_type": "execute_result"
    }
   ],
   "source": [
    "z"
   ]
  },
  {
   "cell_type": "code",
   "execution_count": 182,
   "metadata": {},
   "outputs": [
    {
     "data": {
      "text/plain": [
       "array([ 0,  1,  2,  3,  4,  5,  6,  7,  8,  9, 10, 11, 12, 13, 14, 15, 16,\n",
       "       17, 18, 19, 20, 21, 22, 23, 24, 25, 26, 27, 28, 29])"
      ]
     },
     "execution_count": 182,
     "metadata": {},
     "output_type": "execute_result"
    }
   ],
   "source": [
    "x"
   ]
  },
  {
   "cell_type": "code",
   "execution_count": null,
   "metadata": {},
   "outputs": [],
   "source": []
  }
 ],
 "metadata": {
  "kernelspec": {
   "display_name": "Python 3",
   "language": "python",
   "name": "python3"
  },
  "language_info": {
   "codemirror_mode": {
    "name": "ipython",
    "version": 3
   },
   "file_extension": ".py",
   "mimetype": "text/x-python",
   "name": "python",
   "nbconvert_exporter": "python",
   "pygments_lexer": "ipython3",
   "version": "3.6.5"
  }
 },
 "nbformat": 4,
 "nbformat_minor": 2
}
